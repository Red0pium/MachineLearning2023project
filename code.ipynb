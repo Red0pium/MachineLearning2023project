{
 "cells": [
  {
   "cell_type": "code",
   "execution_count": null,
   "metadata": {},
   "outputs": [],
   "source": [
    "import os\n",
    "import matplotlib.pyplot as plt\n",
    "import matplotlib.patches as patches\n",
    "import matplotlib.pyplot as plt\n",
    "from PIL import Image, ImageDraw\n",
    "import numpy as np\n",
    "import pandas as pd\n",
    "import time"
   ]
  },
  {
   "cell_type": "markdown",
   "metadata": {},
   "source": [
    "# Analysis of current Dataset"
   ]
  },
  {
   "cell_type": "code",
   "execution_count": null,
   "metadata": {},
   "outputs": [],
   "source": [
    "train_path = '/content/drive/MyDrive/machine_learning/projet/Brain-Tumor-Classification-DataSet-master/Testing'\n",
    "test_path = '/content/drive/MyDrive/machine_learning/projet/Brain-Tumor-Classification-DataSet-master/Training'"
   ]
  },
  {
   "cell_type": "code",
   "execution_count": null,
   "metadata": {},
   "outputs": [],
   "source": [
    "def create_dataframe():\n",
    "  paths = [train_path, test_path]\n",
    "\n",
    "  names = []\n",
    "  groups = []\n",
    "  labels = []\n",
    "  heights = []\n",
    "  widths = []\n",
    "\n",
    "  for path in paths:\n",
    "    foldlabels = os.listdir(path)\n",
    "    for label in foldlabels:\n",
    "      filenames = os.listdir(path + '/' + label)\n",
    "      for name in filenames:\n",
    "        fold_path_im = os.path.join(path, label + '/' + name)\n",
    "        if '.jpg' in name:\n",
    "\n",
    "          im = np.array(Image.open(fold_path_im))\n",
    "          names.append(name)\n",
    "          groups.append(path.split('/')[-1])\n",
    "          labels.append(label)\n",
    "          heights.append(im.shape[0])\n",
    "          widths.append(im.shape[1])\n",
    "        else:\n",
    "          os.remove(fold_path_im)\n",
    "          print('corrupted file for ',  fold_path_im)\n",
    "\n",
    "  return pd.DataFrame({\n",
    "      'file' : names,\n",
    "      'group' : groups,\n",
    "      'label' : labels,\n",
    "      'height' : heights,\n",
    "      'width' : widths\n",
    "  })"
   ]
  },
  {
   "cell_type": "code",
   "execution_count": null,
   "metadata": {},
   "outputs": [],
   "source": [
    "df = create_dataframe()"
   ]
  },
  {
   "cell_type": "code",
   "execution_count": null,
   "metadata": {},
   "outputs": [],
   "source": [
    "df.head()"
   ]
  },
  {
   "cell_type": "code",
   "execution_count": null,
   "metadata": {},
   "outputs": [],
   "source": [
    "df.name = 'total dataset'\n",
    "df_train = df[df['group'] == 'Training'].copy()\n",
    "df_train.name = 'train dataset'\n",
    "df_test = df[df['group'] == 'Testing'].copy()\n",
    "df_test.name = 'test dataset'\n",
    "datasets = [df, df_train, df_test]"
   ]
  },
  {
   "cell_type": "code",
   "execution_count": null,
   "metadata": {},
   "outputs": [],
   "source": [
    "df.name = 'total dataset'\n",
    "df_train = df[df['group'] == 'Training'].copy()\n",
    "df_train.name = 'train dataset'\n",
    "df_test = df[df['group'] == 'Testing'].copy()\n",
    "df_test.name = 'test dataset'\n",
    "datasets = [df, df_train, df_test]"
   ]
  },
  {
   "cell_type": "code",
   "execution_count": null,
   "metadata": {},
   "outputs": [],
   "source": [
    "fig, axes = plt.subplots(1, len(datasets), figsize=(10 * len(datasets), 6))\n",
    "for i, dataset in enumerate(datasets):\n",
    "    h = np.array(dataset['height'])\n",
    "    axes[i].bar(0, np.mean(h), yerr = np.std(h), alpha=0.5, ecolor='black', capsize=10)\n",
    "    axes[i].set_title('Box Plot of height for ' + dataset.name)\n",
    "    axes[i].set_ylabel('')\n",
    "\n",
    "plt.show()"
   ]
  },
  {
   "cell_type": "code",
   "execution_count": null,
   "metadata": {},
   "outputs": [],
   "source": [
    "fig, axes = plt.subplots(1, len(datasets), figsize=(10 * len(datasets), 6))\n",
    "for i, dataset in enumerate(datasets):\n",
    "    h = np.array(dataset['width'])\n",
    "    axes[i].bar(0, np.mean(h), yerr = np.std(h), alpha=0.5, ecolor='black', capsize=10)\n",
    "    axes[i].set_title('Box Plot of width for ' + dataset.name)\n",
    "    axes[i].set_ylabel('')\n",
    "\n",
    "plt.show()"
   ]
  },
  {
   "cell_type": "markdown",
   "metadata": {},
   "source": [
    "# Re-Split the Data"
   ]
  },
  {
   "cell_type": "code",
   "execution_count": null,
   "metadata": {},
   "outputs": [],
   "source": [
    "0.03 * df.shape[0]"
   ]
  },
  {
   "cell_type": "code",
   "execution_count": null,
   "metadata": {},
   "outputs": [],
   "source": [
    "(100 * 98)/df.shape[0]"
   ]
  },
  {
   "cell_type": "markdown",
   "metadata": {},
   "source": [
    "- train = 90% of total dataset\n",
    "- testing = 12% of total dataset\n",
    "- 3% of each label in test dataset (3% * 4) => 12%\n"
   ]
  },
  {
   "cell_type": "code",
   "execution_count": null,
   "metadata": {},
   "outputs": [],
   "source": [
    "#recreate the current hierarchy\n",
    "try:\n",
    "  os.makedirs('/content/drive/MyDrive/machine_learning/projet/FinalDataset')\n",
    "except:\n",
    "  print('already existing')"
   ]
  },
  {
   "cell_type": "code",
   "execution_count": null,
   "metadata": {},
   "outputs": [],
   "source": [
    "im_per_label = round(0.2* df.shape[0])\n",
    "im_per_label"
   ]
  },
  {
   "cell_type": "code",
   "execution_count": null,
   "metadata": {},
   "outputs": [],
   "source": [
    "import random\n",
    "import shutil"
   ]
  },
  {
   "cell_type": "code",
   "execution_count": null,
   "metadata": {},
   "outputs": [],
   "source": [
    "def create_train():\n",
    "  try:\n",
    "    shutil.rmtree('/content/drive/MyDrive/machine_learning/projet/FinalDataset/Training')\n",
    "  except:\n",
    "    print(\"folder doesn't exist\")\n",
    "\n",
    "  os.makedirs('/content/drive/MyDrive/machine_learning/projet/FinalDataset/Training')\n",
    "  os.makedirs('/content/drive/MyDrive/machine_learning/projet/FinalDataset/Training/no_tumor')\n",
    "  os.makedirs('/content/drive/MyDrive/machine_learning/projet/FinalDataset/Training/glioma_tumor')\n",
    "  os.makedirs('/content/drive/MyDrive/machine_learning/projet/FinalDataset/Training/meningioma_tumor')\n",
    "  os.makedirs('/content/drive/MyDrive/machine_learning/projet/FinalDataset/Training/pituitary_tumor')\n",
    "\n",
    "  already_in = []\n",
    "  for label in df['label'].unique():\n",
    "    df_label = df[df['label'] == label].copy()\n",
    "    for i in range(im_per_label):\n",
    "      j = random.randint(0,df_label.shape[0]-1)\n",
    "      im_name = df_label['file'].iloc[j]\n",
    "      while im_name in already_in:\n",
    "        j = random.randint(0,df_label.shape[0]-1)\n",
    "        im_name = df_label['file'].iloc[j]\n",
    "      image = Image.open('/content/drive/MyDrive/machine_learning/projet/Brain-Tumor-Classification-DataSet-master/' + df_label['group'].iloc[j] + '/' + label + '/' + im_name)\n",
    "      image.save('/content/drive/MyDrive/machine_learning/projet/FinalDataset/Training/' + label + '/' + im_name)\n",
    "      already_in.append(im_name)\n",
    "  return already_in"
   ]
  },
  {
   "cell_type": "code",
   "execution_count": null,
   "metadata": {},
   "outputs": [],
   "source": [
    "def create_test(train_content):\n",
    "  try:\n",
    "    shutil.rmtree('/content/drive/MyDrive/machine_learning/projet/FinalDataset/Testing')\n",
    "  except:\n",
    "    print(\"folder doesn't exist\")\n",
    "\n",
    "  os.makedirs('/content/drive/MyDrive/machine_learning/projet/FinalDataset/Testing')\n",
    "  os.makedirs('/content/drive/MyDrive/machine_learning/projet/FinalDataset/Testing/no_tumor')\n",
    "  os.makedirs('/content/drive/MyDrive/machine_learning/projet/FinalDataset/Testing/glioma_tumor')\n",
    "  os.makedirs('/content/drive/MyDrive/machine_learning/projet/FinalDataset/Testing/meningioma_tumor')\n",
    "  os.makedirs('/content/drive/MyDrive/machine_learning/projet/FinalDataset/Testing/pituitary_tumor')\n",
    "\n",
    "  for i in range(df.shape[0]):\n",
    "    if df['file'].iloc[i] not in train_content:\n",
    "      image = Image.open('/content/drive/MyDrive/machine_learning/projet/Brain-Tumor-Classification-DataSet-master/' + df['group'].iloc[i] + '/' + df['label'].iloc[i] + '/' + df['file'].iloc[i])\n",
    "      image.save('/content/drive/MyDrive/machine_learning/projet/FinalDataset/Testing/' + df['label'].iloc[i] + '/' + df['file'].iloc[i])\n",
    "\n"
   ]
  },
  {
   "cell_type": "code",
   "execution_count": null,
   "metadata": {},
   "outputs": [],
   "source": [
    "train_content = create_train()"
   ]
  },
  {
   "cell_type": "code",
   "execution_count": null,
   "metadata": {},
   "outputs": [],
   "source": [
    "create_train(test_content)"
   ]
  },
  {
   "cell_type": "code",
   "execution_count": null,
   "metadata": {},
   "outputs": [],
   "source": [
    "train_path = '/content/drive/MyDrive/machine_learning/projet/FinalDataset/Testing'\n",
    "test_path = '/content/drive/MyDrive/machine_learning/projet/FinalDataset/Training'"
   ]
  },
  {
   "cell_type": "code",
   "execution_count": null,
   "metadata": {},
   "outputs": [],
   "source": [
    "df_final = create_dataframe()"
   ]
  },
  {
   "cell_type": "code",
   "execution_count": null,
   "metadata": {},
   "outputs": [],
   "source": [
    "df_final.head()"
   ]
  },
  {
   "cell_type": "code",
   "execution_count": null,
   "metadata": {},
   "outputs": [],
   "source": [
    "df_final.shape"
   ]
  },
  {
   "cell_type": "code",
   "execution_count": null,
   "metadata": {},
   "outputs": [],
   "source": [
    "df_final.name = 'total dataset'\n",
    "df_train = df_final[df_final['group'] == 'Training'].copy()\n",
    "df_train.name = 'train dataset'\n",
    "df_test = df_final[df_final['group'] == 'Testing'].copy()\n",
    "df_test.name = 'test dataset'\n",
    "datasets = [df_final, df_train, df_test]"
   ]
  },
  {
   "cell_type": "code",
   "execution_count": null,
   "metadata": {},
   "outputs": [],
   "source": [
    "fig, axes = plt.subplots(1, len(datasets), figsize=(10 * len(datasets), 6))\n",
    "\n",
    "for i, dataset in enumerate(datasets):\n",
    "    label_counts = dataset['label'].value_counts().sort_index()\n",
    "    label_counts = (label_counts * 100) / dataset.shape[0]\n",
    "\n",
    "    axes[i].pie(label_counts, labels=label_counts.index, autopct='%1.1f%%', startangle=140)\n",
    "    axes[i].set_title('Frequency Percentage of each label in ' + dataset.name)\n",
    "    axes[i].set_ylabel('')\n",
    "\n",
    "plt.show()"
   ]
  }
 ],
 "metadata": {
  "language_info": {
   "name": "python"
  }
 },
 "nbformat": 4,
 "nbformat_minor": 2
}
